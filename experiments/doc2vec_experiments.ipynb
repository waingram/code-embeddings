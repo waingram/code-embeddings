{
 "cells": [
  {
   "cell_type": "markdown",
   "metadata": {},
   "source": [
    "# Experiments with Doc2Vec"
   ]
  },
  {
   "cell_type": "markdown",
   "metadata": {},
   "source": [
    "Try to represent code in Doc2Vec. "
   ]
  },
  {
   "cell_type": "markdown",
   "metadata": {},
   "source": [
    "## Setup"
   ]
  },
  {
   "cell_type": "code",
   "execution_count": 1,
   "metadata": {
    "collapsed": true
   },
   "outputs": [],
   "source": [
    "import multiprocessing\n",
    "from pathlib import Path\n",
    "\n",
    "import gensim.models.doc2vec\n",
    "import regex\n",
    "from gensim.models.doc2vec import Doc2Vec\n",
    "from gensim.models.doc2vec import TaggedDocument\n",
    "from javalang import tokenizer\n",
    "\n",
    "from code_embeddings.utils import tokenize\n",
    "\n",
    "assert gensim.models.doc2vec.FAST_VERSION > -1, \"This will be painfully slow otherwise\"\n"
   ]
  },
  {
   "cell_type": "markdown",
   "metadata": {},
   "source": [
    "## Build and Train the Model"
   ]
  },
  {
   "cell_type": "code",
   "execution_count": 2,
   "metadata": {},
   "outputs": [],
   "source": [
    "test_code_dir = Path('test_data')\n",
    "train_code_dir = Path('training_data')\n",
    "models_dir = Path('models')"
   ]
  },
  {
   "cell_type": "code",
   "execution_count": 3,
   "metadata": {},
   "outputs": [],
   "source": [
    "def split_methods(code):\n",
    "    \"\"\"Parse Java files into separate methods\n",
    "\n",
    "        :param code: Java code to parse.\n",
    "        :rtype: map\n",
    "    \"\"\"\n",
    "    pattern = r'(?:(?:public|private|static|protected)\\s+)*\\s*[\\w\\<\\>\\[\\]]+\\s+\\w+\\s*\\([^{]+({(?:[^{}]+\\/\\*.*?\\*\\/|[^{}]+\\/\\/.*?$|[^{}]+|(?1))*+})'\n",
    "    scanner = regex.finditer(pattern, code, regex.MULTILINE)\n",
    "    return map(lambda match: match.group(0), scanner)"
   ]
  },
  {
   "cell_type": "code",
   "execution_count": 4,
   "metadata": {
    "collapsed": false
   },
   "outputs": [
    {
     "name": "stdout",
     "output_type": "stream",
     "text": [
      "Processed 10000 records\n"
     ]
    },
    {
     "name": "stdout",
     "output_type": "stream",
     "text": [
      "Processed 20000 records\n"
     ]
    },
    {
     "name": "stdout",
     "output_type": "stream",
     "text": [
      "Processed 30000 records\n"
     ]
    },
    {
     "name": "stdout",
     "output_type": "stream",
     "text": [
      "Processed 40000 records\n"
     ]
    },
    {
     "name": "stdout",
     "output_type": "stream",
     "text": [
      "Processed 50000 records\n"
     ]
    },
    {
     "name": "stdout",
     "output_type": "stream",
     "text": [
      "Processed 60000 records\n"
     ]
    },
    {
     "name": "stdout",
     "output_type": "stream",
     "text": [
      "Processed 70000 records\n"
     ]
    },
    {
     "name": "stdout",
     "output_type": "stream",
     "text": [
      "Processed 80000 records\n"
     ]
    },
    {
     "name": "stdout",
     "output_type": "stream",
     "text": [
      "Processed 90000 records\n"
     ]
    },
    {
     "name": "stdout",
     "output_type": "stream",
     "text": [
      "Processed 100000 records\n"
     ]
    },
    {
     "name": "stdout",
     "output_type": "stream",
     "text": [
      "CPU times: user 16min 24s, sys: 38.9 s, total: 17min 3s\nWall time: 18min 7s\nTraining corpus size: 606108\n"
     ]
    }
   ],
   "source": [
    "def read_train_corpus():\n",
    "    count = 0\n",
    "    for i, file in enumerate(train_code_dir.glob('./java_projects/**/*.java')):\n",
    "        if not file.is_file():  # oddly, some of these are not files\n",
    "            continue\n",
    "        with file.open() as f:\n",
    "            try:\n",
    "                code = f.read()\n",
    "                methods = split_methods(code)\n",
    "                for method in methods:\n",
    "                    tokens = list(tokenizer.tokenize(method))\n",
    "                    tokens = [token for t in tokens for token in t.value.split(\" \")]\n",
    "                    if tokens:\n",
    "                        tag = \"Method_%s\" % count\n",
    "                        count += 1\n",
    "                        path = file.__fspath__()\n",
    "                        yield TaggedDocument(tokens, [tag, path])\n",
    "            except tokenizer.LexerError as e:\n",
    "                # print(\"%s: %s\" % (type(e).__name__, e))\n",
    "                pass\n",
    "            except UnicodeDecodeError as e:\n",
    "                # print(\"%s: %s\" % (type(e).__name__, e))\n",
    "                pass\n",
    "            except Exception as e:\n",
    "                print(\"%s: %s\" % (type(e).__name__, e))\n",
    "                pass\n",
    "        if i % 10000 == 0:\n",
    "            print(\"Processed %s records\" % i)\n",
    "        if i > 100000:\n",
    "            break\n",
    "\n",
    "\n",
    "%time train_corpus = list(read_train_corpus())\n",
    "print(\"Training corpus size: %s\" % len(train_corpus))\n"
   ]
  },
  {
   "cell_type": "code",
   "execution_count": 27,
   "metadata": {},
   "outputs": [],
   "source": [
    "# doc2vec parameters\n",
    "vector_size = 100\n",
    "window_size = 8\n",
    "min_count = 5\n",
    "sampling_threshold = 1e-5\n",
    "negative_size = 5\n",
    "epochs = 20\n",
    "dm = 0  # 0 = dbow; 1 = dmpv\n",
    "worker_count = multiprocessing.cpu_count()  # number of parallel processes"
   ]
  },
  {
   "cell_type": "code",
   "execution_count": 28,
   "metadata": {},
   "outputs": [
    {
     "name": "stdout",
     "output_type": "stream",
     "text": [
      "CPU times: user 1h 42min 40s, sys: 8min 35s, total: 1h 51min 15s\nWall time: 29min 16s\n"
     ]
    }
   ],
   "source": [
    "%%time \n",
    "model = Doc2Vec(train_corpus,\n",
    "                vector_size=vector_size,\n",
    "                window=window_size,\n",
    "                min_count=min_count, \n",
    "                sample=sampling_threshold,\n",
    "                negative=negative_size,\n",
    "                dbow_words=1,\n",
    "                epochs=epochs, \n",
    "                dm=dm,\n",
    "                workers=worker_count)"
   ]
  },
  {
   "cell_type": "code",
   "execution_count": 29,
   "metadata": {
    "collapsed": false
   },
   "outputs": [],
   "source": [
    "model.save(str(models_dir / \"github-java-vectors.bin\"))"
   ]
  },
  {
   "cell_type": "code",
   "execution_count": 30,
   "metadata": {
    "collapsed": false
   },
   "outputs": [
    {
     "data": {
      "text/plain": [
       "[('++', 0.9373986124992371),\n ('0', 0.8826407194137573),\n ('[', 0.8675321340560913),\n (']', 0.8638973832130432),\n ('length', 0.854392945766449),\n ('for', 0.8454275131225586),\n ('int', 0.8078797459602356),\n ('1', 0.7785714268684387),\n ('size', 0.771609365940094),\n ('if', 0.7484936714172363)]"
      ]
     },
     "execution_count": 30,
     "metadata": {},
     "output_type": "execute_result"
    }
   ],
   "source": [
    "model.wv.most_similar('i')"
   ]
  },
  {
   "cell_type": "code",
   "execution_count": 31,
   "metadata": {},
   "outputs": [
    {
     "data": {
      "text/plain": [
       "[('size', 0.6963755488395691),\n ('++', 0.6585384011268616),\n ('i', 0.6508700847625732),\n ('biggest', 0.6107784509658813),\n ('%', 0.6093990802764893),\n ('DISK_SIZE', 0.6026930809020996),\n ('getCount', 0.5905584692955017),\n ('cUpper', 0.5895528197288513),\n ('dbrushside_t', 0.588951051235199),\n ('getBrickCount', 0.5860512256622314)]"
      ]
     },
     "execution_count": 31,
     "metadata": {},
     "output_type": "execute_result"
    }
   ],
   "source": [
    "model.wv.most_similar('count')"
   ]
  },
  {
   "cell_type": "code",
   "execution_count": 32,
   "metadata": {},
   "outputs": [
    {
     "data": {
      "text/plain": [
       "[('null\"', 0.6597949862480164),\n ('null.\"', 0.6316105127334595),\n ('npe', 0.6175013780593872),\n ('cannot', 0.6025328040122986),\n ('nullTag', 0.5977929830551147),\n ('\"Cannot', 0.5906010866165161),\n ('throw', 0.5896168351173401),\n ('IllegalArgumentException', 0.5873245000839233),\n ('aMethodWithComments', 0.5720880031585693),\n ('\"gbeanType', 0.5704606175422668)]"
      ]
     },
     "execution_count": 32,
     "metadata": {},
     "output_type": "execute_result"
    }
   ],
   "source": [
    "model.wv.most_similar('NullPointerException')"
   ]
  },
  {
   "cell_type": "code",
   "execution_count": 33,
   "metadata": {},
   "outputs": [
    {
     "name": "stdout",
     "output_type": "stream",
     "text": [
      "Warning: Could not process token at \"#\", line 6: body{background-color:#FFF;color:#000;font-family:OpenSans,sans-serif;font-size:10px;}\nWarning: Could not process token at \"#\", line 6: body{background-color:#FFF;color:#000;font-family:OpenSans,sans-serif;font-size:10px;}\n"
     ]
    },
    {
     "name": "stdout",
     "output_type": "stream",
     "text": [
      "Test corpus size: 462\n"
     ]
    }
   ],
   "source": [
    "def read_test_corpus():\n",
    "    color_val = 0\n",
    "    for programming_language in test_code_dir.glob('./Java'):\n",
    "        if not programming_language.is_dir():\n",
    "            continue\n",
    "        for programming_task in programming_language.glob('./*'):\n",
    "            if not programming_task.is_dir():\n",
    "                continue\n",
    "            color_val += 1\n",
    "            for implementation in programming_task.glob('./*'):\n",
    "                with implementation.open() as f:\n",
    "                    try:\n",
    "                        code = f.read()\n",
    "                        tokens = list(tokenizer.tokenize(code))\n",
    "                        tokens = [token for t in tokens for token in t.value.split(\" \")]\n",
    "                        if tokens:\n",
    "                            yield TaggedDocument(tokens, [programming_task.name, implementation.name, programming_language.name, color_val])\n",
    "                    except Exception as e:\n",
    "                        print(\"Warning: %s\" % e)\n",
    "                        pass\n",
    "                \n",
    "                \n",
    "test_corpus = list(read_test_corpus())\n",
    "print(\"Test corpus size: %s\" % len(test_corpus))"
   ]
  },
  {
   "cell_type": "code",
   "execution_count": 34,
   "metadata": {},
   "outputs": [
    {
     "name": "stdout",
     "output_type": "stream",
     "text": [
      "0.2910955548286438\n"
     ]
    }
   ],
   "source": [
    "import scipy\n",
    "\n",
    "sieve6 = [doc for doc in test_corpus if doc.tags[1] == 'sieve-of-eratosthenes-6.java'][0]\n",
    "sieve5 = [doc for doc in test_corpus if doc.tags[1] == 'sieve-of-eratosthenes-5.java'][0]\n",
    "\n",
    "sieve5_vector = model.infer_vector(sieve5.words, steps=200)\n",
    "sieve6_vector = model.infer_vector(sieve6.words, steps=200)\n",
    "\n",
    "dist = scipy.spatial.distance.cosine(sieve5_vector, sieve6_vector)\n",
    "print(dist)\n"
   ]
  },
  {
   "cell_type": "code",
   "execution_count": 48,
   "metadata": {},
   "outputs": [
    {
     "name": "stdout",
     "output_type": "stream",
     "text": [
      "InertialMatrix.java\nSimilarity: 0.7162184119224548\npackage blink;\n\nimport java.util.Random;\n\n/**\n * <p>Title: </p>\n *\n * <p>Description: </p>\n *\n * <p>Copyright: Copyright (c) 2006</p>\n *\n * <p>Company: </p>\n *\n * @author not attributable\n * @version 1.0\n */\npublic class InertialMatrix {\n    private int _n;\n    private double _M[][];\n\n    public static double[][] copy(int[][] M) {\n        double Md[][] = new double[M.length][M.length];\n        for (int i=0;i<M.length;i++)\n            for (int j=0;j<M.length;j++) {\n                Md[i][j] = M[i][j];\n            }\n        return Md;\n    }\n\n    public InertialMatrix(int M[][]) {\n        this(copy(M));\n    }\n\n    public InertialMatrix(double M[][]) {\n        _M = M;\n        _n = _M.length;\n\n        // this.print(\"Matriz Inicial\");\n\n        int k=0;\n        while (k < _n) {\n            if (Math.abs(_M[k][k]) > 1.0e-5) {\n\n                // convert position k,k to 1 or -1\n                double s = 1/Math.sqrt(Math.abs(_M[k][k]));\n                scaleLine(k,s);\n                scaleColumn(k,s);\n\n                // this.print(String.format(\"Transformando valor nao nulo em %d %d em 1 ou -1\",k,k));\n\n                // convert all lines different of 1 or -1 to 1 or -1\n                for (int i=k+1;i<_n;i++) {\n                    if (Math.abs(_M[i][k])  > 1.0e-5) {\n                        double si = - _M[k][k]/_M[i][k];\n                        scaleLine(i,si);\n                        scaleColumn(i,si);\n\n                        // this.print(String.format(\"Transformando valor nao nulo em %d %d e em %d %d em -M[%d,%d]\",i,k,k,i,k,k));\n\n                        sumRow(i,k);\n                        sumColumn(i,k);\n\n                        // this.print(String.format(\"Somando linha e coluna %d com linha e coluns %d\",i,k));\n\n                    }\n                }\n                k++;\n            }\n            else {\n                // find someone on the column\n                // that is different from zero\n                int i=k+1;\n                for (;i<_n;i++) {\n                    if (Math.abs(M[i][k]) > 1.0e-5)\n                        break;\n                }\n\n                if (i == _n) {\n                    k++;\n                    continue;\n                }\n                else {\n                    // swap line i with line i+k AND\n                    // swap column i with column k\n                    sumRow(k,i);\n                    sumColumn(k,i);\n\n                    // this.print(String.format(\"Somar linha e coluna %d com linha e coluns %d\",i,k));\n\n                }\n            }\n        }\n\n        // this.print(String.format(\"Resultado Final\"));\n\n    }\n\n    public int getDiagonalSum() {\n        double sum = 0;\n        for (int i=0;i<_n;i++)\n            sum+=_M[i][i];\n        return (int)Math.round(sum);\n    }\n\n    private void sumColumn(int j1, int j2) {\n        for (int i=0;i<_n;i++) {\n            _M[i][j1] = _M[i][j1] + _M[i][j2];\n        }\n    }\n\n    private void sumRow(int i1, int i2) {\n        for (int j=0;j<_n;j++) {\n            _M[i1][j] = _M[i1][j] + _M[i2][j];\n        }\n    }\n\n    private void scaleLine(int i, double s) {\n        for (int j=0;j<_n;j++) {\n            _M[i][j] = s * _M[i][j];\n        }\n    }\n\n    private void scaleColumn(int j, double s) {\n        for (int i=0;i<_n;i++) {\n            _M[i][j] = s * _M[i][j];\n        }\n    }\n\n    public void inercialMatrix(int M[][]) {\n        int n = M.length;\n        int i=0;\n        while (i < n) {\n            if (M[i][i] == 0) {\n            }\n        }\n    }\n\n    public void print(String title) {\n        if (title != null)\n            System.out.println(title);\n        for (int i=0;i<_n;i++) {\n            for (int j = 0; j < _n; j++)\n                System.out.print(String.format(\"%10.4f \", _M[i][j]));\n            System.out.println();\n        }\n    }\n\n    public static double[][] random(int n) {\n        Random r = new Random();\n        double[][] result = new double[n][n];\n        for (int i=0;i<n;i++)\n            for (int j=i;j<n;j++) {\n                int k = r.nextInt(20);\n                if (r.nextBoolean())\n                    k = -k;\n                result[i][j] = k;\n                result[j][i] = k;\n            }\n        return result;\n    }\n\n    public static void main(String[] args) {\n        new InertialMatrix(new double[][] {{0,0,-1},{0,0,0},{-1,0,1}});\n    }\n\n}\n"
     ]
    }
   ],
   "source": [
    "sims = model.docvecs.most_similar([sieve6_vector])\n",
    "doc = [{'name': doc.tags[0], 'path': doc.tags[1]} for doc in train_corpus if doc.tags[0] == sims[0][0]]\n",
    "f = Path(doc[0]['path'])\n",
    "print(f.name)\n",
    "print(\"Similarity: %s\" % sims[0][1])\n",
    "with f.open() as fin:\n",
    "    print(fin.read(), end=\"\")"
   ]
  },
  {
   "cell_type": "code",
   "execution_count": 49,
   "metadata": {},
   "outputs": [],
   "source": [
    "docs = [{'name': doc.tags[0], 'vec': model.infer_vector(doc.words, steps=200), 'color': doc.tags[3]} for doc in test_corpus]\n",
    "num_colors = docs[-1]['color']"
   ]
  },
  {
   "cell_type": "code",
   "execution_count": 50,
   "metadata": {},
   "outputs": [
    {
     "data": {
      "image/png": "[encoded data removed]",
      "text/plain": [
       "<Figure size 1440x720 with 1 Axes>"
      ]
     },
     "metadata": {},
     "output_type": "display_data"
    }
   ],
   "source": [
    "%matplotlib inline\n",
    "\n",
    "import matplotlib.pyplot as plt\n",
    "import matplotlib.cm as mplcm\n",
    "import matplotlib.colors as colors\n",
    "import matplotlib\n",
    "from sklearn.decomposition import PCA\n",
    "from sklearn.manifold import TSNE\n",
    "\n",
    "matplotlib.rcParams['figure.figsize'] = (20, 10)\n",
    "\n",
    "tsne = TSNE(n_components=2)\n",
    "twoDimVecs = tsne.fit_transform([doc['vec'] for doc in docs])\n",
    "\n",
    "cm = plt.get_cmap('gist_rainbow')\n",
    "cNorm = colors.Normalize(vmin=0, vmax=num_colors-1)\n",
    "scalarMap = mplcm.ScalarMappable(norm=cNorm, cmap=cm)\n",
    "\n",
    "fig, ax = plt.subplots()\n",
    "for doc, twoDimVec in zip(docs, twoDimVecs):\n",
    "    ax.scatter(twoDimVec[0], twoDimVec[1], color=scalarMap.to_rgba(doc['color']))\n",
    "plt.show()"
   ]
  }
 ],
 "metadata": {
  "kernelspec": {
   "display_name": "Python 2",
   "language": "python",
   "name": "python2"
  },
  "language_info": {
   "codemirror_mode": {
    "name": "ipython",
    "version": 2
   },
   "file_extension": ".py",
   "mimetype": "text/x-python",
   "name": "python",
   "nbconvert_exporter": "python",
   "pygments_lexer": "ipython2",
   "version": "2.7.6"
  }
 },
 "nbformat": 4,
 "nbformat_minor": 0
}
