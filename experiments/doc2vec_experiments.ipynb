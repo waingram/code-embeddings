{
 "cells": [
  {
   "cell_type": "markdown",
   "metadata": {},
   "source": [
    "# Experiments with Doc2Vec"
   ]
  },
  {
   "cell_type": "markdown",
   "metadata": {},
   "source": [
    "Try to represent code in Doc2Vec. "
   ]
  },
  {
   "cell_type": "markdown",
   "metadata": {},
   "source": [
    "## Setup"
   ]
  },
  {
   "cell_type": "code",
   "execution_count": 1,
   "metadata": {
    "collapsed": true
   },
   "outputs": [],
   "source": [
    "import multiprocessing\n",
    "from pathlib import Path\n",
    "\n",
    "import gensim.models.doc2vec\n",
    "import regex\n",
    "from gensim.models.doc2vec import Doc2Vec\n",
    "from gensim.models.doc2vec import TaggedDocument\n",
    "from javalang import tokenizer\n",
    "\n",
    "from code_embeddings.utils import tokenize\n",
    "\n",
    "assert gensim.models.doc2vec.FAST_VERSION > -1, \"This will be painfully slow otherwise\"\n"
   ]
  },
  {
   "cell_type": "markdown",
   "metadata": {},
   "source": [
    "## Build and Train the Model"
   ]
  },
  {
   "cell_type": "code",
   "execution_count": 2,
   "metadata": {},
   "outputs": [],
   "source": [
    "test_code_dir = Path('test_data')\n",
    "train_code_dir = Path('training_data')\n",
    "models_dir = Path('models')"
   ]
  },
  {
   "cell_type": "code",
   "execution_count": 3,
   "metadata": {},
   "outputs": [],
   "source": [
    "def split_methods(code):\n",
    "    \"\"\"Parse Java files into separate methods\n",
    "\n",
    "        :param code: Java code to parse.\n",
    "        :rtype: map\n",
    "    \"\"\"\n",
    "    pattern = r'(?:(?:public|private|static|protected)\\s+)*\\s*[\\w\\<\\>\\[\\]]+\\s+\\w+\\s*\\([^{]+({(?:[^{}]+\\/\\*.*?\\*\\/|[^{}]+\\/\\/.*?$|[^{}]+|(?1))*+})'\n",
    "    scanner = regex.finditer(pattern, code, regex.MULTILINE)\n",
    "    return map(lambda match: match.group(0), scanner)"
   ]
  },
  {
   "cell_type": "code",
   "execution_count": 4,
   "metadata": {
    "collapsed": false
   },
   "outputs": [
    {
     "name": "stdout",
     "output_type": "stream",
     "text": [
      "Processed 10000 records\n"
     ]
    },
    {
     "name": "stdout",
     "output_type": "stream",
     "text": [
      "Processed 20000 records\n"
     ]
    },
    {
     "name": "stdout",
     "output_type": "stream",
     "text": [
      "Processed 30000 records\n"
     ]
    },
    {
     "name": "stdout",
     "output_type": "stream",
     "text": [
      "Processed 40000 records\n"
     ]
    },
    {
     "name": "stdout",
     "output_type": "stream",
     "text": [
      "Processed 50000 records\n"
     ]
    },
    {
     "name": "stdout",
     "output_type": "stream",
     "text": [
      "Processed 60000 records\n"
     ]
    },
    {
     "name": "stdout",
     "output_type": "stream",
     "text": [
      "Processed 70000 records\n"
     ]
    },
    {
     "name": "stdout",
     "output_type": "stream",
     "text": [
      "Processed 80000 records\n"
     ]
    },
    {
     "name": "stdout",
     "output_type": "stream",
     "text": [
      "Processed 90000 records\n"
     ]
    },
    {
     "name": "stdout",
     "output_type": "stream",
     "text": [
      "Processed 100000 records\n"
     ]
    },
    {
     "name": "stdout",
     "output_type": "stream",
     "text": [
      "Warning: Could not process token at \"#\", line 6: body{background-color:#FFF;color:#000;font-family:OpenSans,sans-serif;font-size:10px;}\nWarning: Could not process token at \"#\", line 6: body{background-color:#FFF;color:#000;font-family:OpenSans,sans-serif;font-size:10px;}\nCPU times: user 14min 47s, sys: 31.5 s, total: 15min 19s\nWall time: 16min 20s\nTraining corpus size: 606570\n"
     ]
    }
   ],
   "source": [
    "def read_train_corpus():\n",
    "    count = 0\n",
    "    for i, file in enumerate(train_code_dir.glob('./java_projects/**/*.java')):\n",
    "        if not file.is_file():  # oddly, some of these are not files\n",
    "            continue\n",
    "        with file.open() as f:\n",
    "            try:\n",
    "                code = f.read()\n",
    "                methods = split_methods(code)\n",
    "                for method in methods:\n",
    "                    tokens = list(tokenizer.tokenize(method))\n",
    "                    tokens = [token for t in tokens for token in t.value.split(\" \")]\n",
    "                    if tokens:\n",
    "                        tag = \"Java_%s\" % count\n",
    "                        count += 1\n",
    "                        source = \"github\"\n",
    "                        path = file.__fspath__()\n",
    "                        yield TaggedDocument(tokens, [tag, source, path])\n",
    "            except tokenizer.LexerError as e:\n",
    "                # print(\"%s: %s\" % (type(e).__name__, e))\n",
    "                pass\n",
    "            except UnicodeDecodeError as e:\n",
    "                # print(\"%s: %s\" % (type(e).__name__, e))\n",
    "                pass\n",
    "            except Exception as e:\n",
    "                print(\"%s: %s\" % (type(e).__name__, e))\n",
    "                pass\n",
    "        if i % 10000 == 0:\n",
    "            print(\"Processed %s records\" % i)\n",
    "        if i > 100000:\n",
    "            break\n",
    "            \n",
    "    # also include test corpus in training! \n",
    "    for programming_language in test_code_dir.glob('./Java'):\n",
    "        if not programming_language.is_dir():\n",
    "            continue\n",
    "        for programming_task in programming_language.glob('./*'):\n",
    "            if not programming_task.is_dir():\n",
    "                continue\n",
    "            for implementation in programming_task.glob('./*'):\n",
    "                with implementation.open() as f:\n",
    "                    try:\n",
    "                        code = f.read()\n",
    "                        tokens = list(tokenizer.tokenize(code))\n",
    "                        tokens = [token for t in tokens for token in t.value.split(\" \")]\n",
    "                        if tokens:\n",
    "                            tag = \"Java_%s\" % count\n",
    "                            count += 1\n",
    "                            source = \"rosetta\"\n",
    "                            path = file.__fspath__()\n",
    "                            yield TaggedDocument(tokens, [tag, source, path])\n",
    "                    except Exception as e:\n",
    "                        print(\"Warning: %s\" % e)\n",
    "                        pass\n",
    "\n",
    "\n",
    "%time train_corpus = list(read_train_corpus())\n",
    "print(\"Training corpus size: %s\" % len(train_corpus))\n"
   ]
  },
  {
   "cell_type": "code",
   "execution_count": 5,
   "metadata": {},
   "outputs": [
    {
     "name": "stdout",
     "output_type": "stream",
     "text": [
      "Warning: Could not process token at \"#\", line 6: body{background-color:#FFF;color:#000;font-family:OpenSans,sans-serif;font-size:10px;}\nWarning: Could not process token at \"#\", line 6: body{background-color:#FFF;color:#000;font-family:OpenSans,sans-serif;font-size:10px;}\nTest corpus size: 462\n"
     ]
    }
   ],
   "source": [
    "def read_test_corpus():\n",
    "    color_val = 0\n",
    "    for programming_language in test_code_dir.glob('./Java'):\n",
    "        if not programming_language.is_dir():\n",
    "            continue\n",
    "        for programming_task in programming_language.glob('./*'):\n",
    "            if not programming_task.is_dir():\n",
    "                continue\n",
    "            color_val += 1\n",
    "            for implementation in programming_task.glob('./*'):\n",
    "                with implementation.open() as f:\n",
    "                    try:\n",
    "                        code = f.read()\n",
    "                        tokens = list(tokenizer.tokenize(code))\n",
    "                        tokens = [token for t in tokens for token in t.value.split(\" \")]\n",
    "                        if tokens:\n",
    "                            yield TaggedDocument(tokens, [programming_task.name, implementation.name, programming_language.name, color_val])\n",
    "                    except Exception as e:\n",
    "                        print(\"Warning: %s\" % e)\n",
    "                        pass\n",
    "                \n",
    "                \n",
    "test_corpus = list(read_test_corpus())\n",
    "print(\"Test corpus size: %s\" % len(test_corpus))"
   ]
  },
  {
   "cell_type": "code",
   "execution_count": 6,
   "metadata": {},
   "outputs": [],
   "source": [
    "# doc2vec parameters\n",
    "vector_size = 100\n",
    "window_size = 8\n",
    "min_count = 5\n",
    "sampling_threshold = 1e-5\n",
    "negative_size = 5\n",
    "epochs = 20\n",
    "dm = 0  # 0 = dbow; 1 = dmpv\n",
    "worker_count = multiprocessing.cpu_count()  # number of parallel processes"
   ]
  },
  {
   "cell_type": "code",
   "execution_count": 7,
   "metadata": {},
   "outputs": [
    {
     "name": "stdout",
     "output_type": "stream",
     "text": [
      "CPU times: user 2h 11min 8s, sys: 10min 22s, total: 2h 21min 31s\nWall time: 43min 38s\n"
     ]
    }
   ],
   "source": [
    "%%time \n",
    "model = Doc2Vec(train_corpus,\n",
    "                vector_size=vector_size,\n",
    "                window=window_size,\n",
    "                min_count=min_count, \n",
    "                sample=sampling_threshold,\n",
    "                negative=negative_size,\n",
    "                dbow_words=1,\n",
    "                epochs=epochs, \n",
    "                dm=dm,\n",
    "                workers=worker_count)"
   ]
  },
  {
   "cell_type": "code",
   "execution_count": 8,
   "metadata": {
    "collapsed": false
   },
   "outputs": [],
   "source": [
    "model.save(str(models_dir / \"github-java-vectors.bin\"))"
   ]
  },
  {
   "cell_type": "code",
   "execution_count": 9,
   "metadata": {
    "collapsed": false
   },
   "outputs": [
    {
     "data": {
      "text/plain": [
       "[('++', 0.9254371523857117),\n ('0', 0.8784686326980591),\n (']', 0.8694688081741333),\n ('[', 0.8628823161125183),\n ('for', 0.843775749206543),\n ('length', 0.8328531980514526),\n ('int', 0.8222540020942688),\n ('1', 0.7767450213432312),\n ('size', 0.7608438730239868),\n ('==', 0.7156810760498047)]"
      ]
     },
     "execution_count": 9,
     "metadata": {},
     "output_type": "execute_result"
    }
   ],
   "source": [
    "model.wv.most_similar('i')"
   ]
  },
  {
   "cell_type": "code",
   "execution_count": 10,
   "metadata": {},
   "outputs": [
    {
     "data": {
      "text/plain": [
       "[('++', 0.6806151866912842),\n ('size', 0.6522249579429626),\n ('i', 0.6505603194236755),\n ('getCount', 0.6462888717651367),\n ('<=', 0.6286522150039673),\n ('mDataCount', 0.6124186515808105),\n ('fieldCounts', 0.6061882376670837),\n ('levelCounts', 0.5984450578689575),\n ('total', 0.596301794052124),\n ('DAY_COUNT', 0.5792690515518188)]"
      ]
     },
     "execution_count": 10,
     "metadata": {},
     "output_type": "execute_result"
    }
   ],
   "source": [
    "model.wv.most_similar('count')"
   ]
  },
  {
   "cell_type": "code",
   "execution_count": 11,
   "metadata": {},
   "outputs": [
    {
     "data": {
      "text/plain": [
       "[('rowRange', 0.6054797172546387),\n ('aMethodWithComments', 0.6008179783821106),\n ('cannot', 0.5847345590591431),\n ('null\"', 0.5692898035049438),\n ('throw', 0.5604134798049927),\n ('ensureApplicationsIsMutable', 0.5550196766853333),\n ('\"gbeanType', 0.5534684658050537),\n ('adaptNull', 0.5455743670463562),\n ('ensurePublicKeyDigestsIsMutable', 0.5448969602584839),\n ('non-null.\"', 0.5443084836006165)]"
      ]
     },
     "execution_count": 11,
     "metadata": {},
     "output_type": "execute_result"
    }
   ],
   "source": [
    "model.wv.most_similar('NullPointerException')"
   ]
  },
  {
   "cell_type": "code",
   "execution_count": 12,
   "metadata": {},
   "outputs": [
    {
     "name": "stdout",
     "output_type": "stream",
     "text": [
      "0.19644904136657715\n"
     ]
    }
   ],
   "source": [
    "import scipy\n",
    "\n",
    "sieve6 = [doc for doc in test_corpus if doc.tags[1] == 'sieve-of-eratosthenes-6.java'][0]\n",
    "sieve5 = [doc for doc in test_corpus if doc.tags[1] == 'sieve-of-eratosthenes-5.java'][0]\n",
    "\n",
    "sieve5_vector = model.infer_vector(sieve5.words, steps=200)\n",
    "sieve6_vector = model.infer_vector(sieve6.words, steps=200)\n",
    "\n",
    "dist = scipy.spatial.distance.cosine(sieve5_vector, sieve6_vector)\n",
    "print(dist)\n"
   ]
  },
  {
   "cell_type": "code",
   "execution_count": 13,
   "metadata": {},
   "outputs": [
    {
     "name": "stdout",
     "output_type": "stream",
     "text": [
      "DictionaryEncoding.java\nSimilarity: 0.8640192151069641\n/*\n * Licensed to the Apache Software Foundation (ASF) under one or more\n * contributor license agreements.  See the NOTICE file distributed with\n * this work for additional information regarding copyright ownership.\n * The ASF licenses this file to You under the Apache License, Version 2.0\n * (the \"License\"); you may not use this file except in compliance with\n * the License.  You may obtain a copy of the License at\n *\n *      http://www.apache.org/licenses/LICENSE-2.0\n *\n * Unless required by applicable law or agreed to in writing, software\n * distributed under the License is distributed on an \"AS IS\" BASIS,\n * WITHOUT WARRANTIES OR CONDITIONS OF ANY KIND, either express or implied.\n * See the License for the specific language governing permissions and\n * limitations under the License.\n */\npackage org.apache.pdfbox.encoding;\n\nimport java.io.IOException;\n\nimport org.apache.pdfbox.cos.COSArray;\nimport org.apache.pdfbox.cos.COSBase;\nimport org.apache.pdfbox.cos.COSDictionary;\nimport org.apache.pdfbox.cos.COSName;\nimport org.apache.pdfbox.cos.COSNumber;\n\n/**\n * This will perform the encoding from a dictionary.\n *\n * @author <a href=\"mailto:ben@benlitchfield.com\">Ben Litchfield</a>\n * @version $Revision: 1.13 $\n */\npublic class DictionaryEncoding extends Encoding\n{\n    private COSDictionary encoding = null;\n\n    /**\n     * Constructor.\n     *\n     * @param fontEncoding The encoding dictionary.\n     *\n     * @throws IOException If there is a problem getting the base font.\n     */\n    public DictionaryEncoding( COSDictionary fontEncoding ) throws IOException\n    {\n        encoding = fontEncoding;\n\n        //first set up the base encoding\n        //The previious value WinAnsiEncoding() has been changed to StandardEnding\n        //see p 389 of the PDF 1.5 ref�rence table 5.11 entries in a dictionary encoding\n        //\"If this entry is absent, the Differences entry describes differences from an implicit\n        //base encoding. For a font program that is embedded in the PDF file, the\n        //implicit base encoding is the font program�s built-in encoding, as described\n        //above and further elaborated in the sections on specific font types below. Otherwise,\n        //for a nonsymbolic font, it is StandardEncoding, and for a symbolic font, it\n        //is the font�s built-in encoding.\"\n\n        // The default base encoding is standardEncoding\n        Encoding baseEncoding = StandardEncoding.INSTANCE;\n        COSName baseEncodingName =\n            (COSName) encoding.getDictionaryObject(COSName.BASE_ENCODING);\n        if (baseEncodingName != null) {\n            baseEncoding =\n                EncodingManager.INSTANCE.getEncoding(baseEncodingName);\n        }\n\n        nameToCode.putAll( baseEncoding.nameToCode );\n        codeToName.putAll( baseEncoding.codeToName );\n\n\n        //now replace with the differences.\n        COSArray differences = (COSArray)encoding.getDictionaryObject( COSName.DIFFERENCES );\n        int currentIndex = -1;\n        for( int i=0; differences != null && i<differences.size(); i++ )\n        {\n            COSBase next = differences.getObject( i );\n            if( next instanceof COSNumber )\n            {\n                currentIndex = ((COSNumber)next).intValue();\n            }\n            else if( next instanceof COSName )\n            {\n                COSName name = (COSName)next;\n                addCharacterEncoding( currentIndex++, name.getName() );\n            }\n        }\n    }\n\n    /**\n     * Convert this standard java object to a COS object.\n     *\n     * @return The cos object that matches this Java object.\n     */\n    public COSBase getCOSObject()\n    {\n        return encoding;\n    }\n}\n"
     ]
    }
   ],
   "source": [
    "sims = model.docvecs.most_similar([sieve6_vector])\n",
    "doc = [{'name': doc.tags[0], 'path': doc.tags[2]} for doc in train_corpus if doc.tags[0] == sims[0][0]]\n",
    "f = Path(doc[0]['path'])\n",
    "print(f.name)\n",
    "print(\"Similarity: %s\" % sims[0][1])\n",
    "with f.open() as fin:\n",
    "    print(fin.read(), end=\"\")"
   ]
  },
  {
   "cell_type": "code",
   "execution_count": 14,
   "metadata": {},
   "outputs": [],
   "source": [
    "docs = [{'name': doc.tags[0], 'vec': model.infer_vector(doc.words, steps=200), 'color': doc.tags[3]} for doc in test_corpus]\n",
    "num_colors = docs[-1]['color']"
   ]
  },
  {
   "cell_type": "code",
   "execution_count": 15,
   "metadata": {},
   "outputs": [
    {
     "data": {
      "image/png": "[encoded data removed]",
      "text/plain": [
       "<Figure size 1440x720 with 1 Axes>"
      ]
     },
     "metadata": {},
     "output_type": "display_data"
    }
   ],
   "source": [
    "%matplotlib inline\n",
    "\n",
    "import matplotlib.pyplot as plt\n",
    "import matplotlib.cm as mplcm\n",
    "import matplotlib.colors as colors\n",
    "import matplotlib\n",
    "from sklearn.decomposition import PCA\n",
    "from sklearn.manifold import TSNE\n",
    "\n",
    "matplotlib.rcParams['figure.figsize'] = (20, 10)\n",
    "\n",
    "tsne = TSNE(n_components=2)\n",
    "twoDimVecs = tsne.fit_transform([doc['vec'] for doc in docs])\n",
    "\n",
    "cm = plt.get_cmap('gist_rainbow')\n",
    "cNorm = colors.Normalize(vmin=0, vmax=num_colors-1)\n",
    "scalarMap = mplcm.ScalarMappable(norm=cNorm, cmap=cm)\n",
    "\n",
    "fig, ax = plt.subplots()\n",
    "for doc, twoDimVec in zip(docs, twoDimVecs):\n",
    "    ax.scatter(twoDimVec[0], twoDimVec[1], color=scalarMap.to_rgba(doc['color']))\n",
    "plt.show()"
   ]
  },
  {
   "cell_type": "code",
   "execution_count": null,
   "metadata": {},
   "outputs": [],
   "source": []
  }
 ],
 "metadata": {
  "kernelspec": {
   "display_name": "Python 2",
   "language": "python",
   "name": "python2"
  },
  "language_info": {
   "codemirror_mode": {
    "name": "ipython",
    "version": 2
   },
   "file_extension": ".py",
   "mimetype": "text/x-python",
   "name": "python",
   "nbconvert_exporter": "python",
   "pygments_lexer": "ipython2",
   "version": "2.7.6"
  }
 },
 "nbformat": 4,
 "nbformat_minor": 0
}
