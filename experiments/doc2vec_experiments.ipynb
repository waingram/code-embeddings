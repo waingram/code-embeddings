{
 "cells": [
  {
   "cell_type": "markdown",
   "metadata": {},
   "source": [
    "# Experiments with Doc2Vec"
   ]
  },
  {
   "cell_type": "markdown",
   "metadata": {},
   "source": [
    "Try to represent code in Doc2Vec. "
   ]
  },
  {
   "cell_type": "markdown",
   "metadata": {},
   "source": [
    "## Setup"
   ]
  },
  {
   "cell_type": "code",
   "execution_count": 2,
   "metadata": {
    "collapsed": true
   },
   "outputs": [],
   "source": [
    "import multiprocessing\n",
    "from pathlib import Path\n",
    "\n",
    "import gensim.models.doc2vec\n",
    "import regex\n",
    "from gensim.models.doc2vec import Doc2Vec\n",
    "from gensim.models.doc2vec import TaggedDocument\n",
    "from javalang import tokenizer\n",
    "\n",
    "from code_embeddings.utils import tokenize\n",
    "\n",
    "assert gensim.models.doc2vec.FAST_VERSION > -1, \"This will be painfully slow otherwise\"\n"
   ]
  },
  {
   "cell_type": "markdown",
   "metadata": {},
   "source": [
    "## Build and Train the Model"
   ]
  },
  {
   "cell_type": "code",
   "execution_count": 3,
   "metadata": {},
   "outputs": [],
   "source": [
    "test_code_dir = Path('test_data')\n",
    "train_code_dir = Path('training_data')\n",
    "models_dir = Path('models')"
   ]
  },
  {
   "cell_type": "code",
   "execution_count": 4,
   "metadata": {},
   "outputs": [],
   "source": [
    "def split_methods(code):\n",
    "    \"\"\"Parse Java files into separate methods\n",
    "\n",
    "        :param code: Java code to parse.\n",
    "        :rtype: map\n",
    "    \"\"\"\n",
    "    pattern = r'(?:(?:public|private|static|protected)\\s+)*\\s*[\\w\\<\\>\\[\\]]+\\s+\\w+\\s*\\([^{]+({(?:[^{}]+\\/\\*.*?\\*\\/|[^{}]+\\/\\/.*?$|[^{}]+|(?1))*+})'\n",
    "    scanner = regex.finditer(pattern, code, regex.MULTILINE)\n",
    "    return map(lambda match: match.group(0), scanner)"
   ]
  },
  {
   "cell_type": "code",
   "execution_count": 5,
   "metadata": {
    "collapsed": false
   },
   "outputs": [
    {
     "name": "stdout",
     "output_type": "stream",
     "text": [
      "Processed 10000 records\n"
     ]
    },
    {
     "name": "stdout",
     "output_type": "stream",
     "text": [
      "Processed 20000 records\n"
     ]
    },
    {
     "name": "stdout",
     "output_type": "stream",
     "text": [
      "Processed 30000 records\n"
     ]
    },
    {
     "name": "stdout",
     "output_type": "stream",
     "text": [
      "Processed 40000 records\n"
     ]
    },
    {
     "name": "stdout",
     "output_type": "stream",
     "text": [
      "Processed 50000 records\n"
     ]
    },
    {
     "name": "stdout",
     "output_type": "stream",
     "text": [
      "Processed 60000 records\n"
     ]
    },
    {
     "name": "stdout",
     "output_type": "stream",
     "text": [
      "Processed 70000 records\n"
     ]
    },
    {
     "name": "stdout",
     "output_type": "stream",
     "text": [
      "Processed 80000 records\n"
     ]
    },
    {
     "name": "stdout",
     "output_type": "stream",
     "text": [
      "Processed 90000 records\n"
     ]
    },
    {
     "name": "stdout",
     "output_type": "stream",
     "text": [
      "Processed 100000 records\nCPU times: user 13min 55s, sys: 24.8 s, total: 14min 20s\nWall time: 14min 56s\nTraining corpus size: 606108\n"
     ]
    }
   ],
   "source": [
    "def read_train_corpus():\n",
    "    count = 0\n",
    "    for i, file in enumerate(train_code_dir.glob('./java_projects/**/*.java')):\n",
    "        if not file.is_file():  # oddly, some of these are not files\n",
    "            continue\n",
    "        with file.open() as f:\n",
    "            try:\n",
    "                code = f.read()\n",
    "                methods = split_methods(code)\n",
    "                for method in methods:\n",
    "                    tokens = list(tokenizer.tokenize(method))\n",
    "                    tokens = [token for t in tokens for token in t.value.split(\" \")]\n",
    "                    if tokens:\n",
    "                        tag = \"Method_%s\" % count\n",
    "                        count += 1\n",
    "                        yield TaggedDocument(tokens, [tag])\n",
    "            except tokenizer.LexerError as e:\n",
    "                # print(\"%s: %s\" % (type(e).__name__, e))\n",
    "                pass\n",
    "            except UnicodeDecodeError as e:\n",
    "                # print(\"%s: %s\" % (type(e).__name__, e))\n",
    "                pass\n",
    "            except Exception as e:\n",
    "                print(\"%s: %s\" % (type(e).__name__, e))\n",
    "                pass\n",
    "        if i % 10000 == 0:\n",
    "            print(\"Processed %s records\" % i)\n",
    "        if i > 100000:\n",
    "            break\n",
    "\n",
    "\n",
    "%time train_corpus = list(read_train_corpus())\n",
    "print(\"Training corpus size: %s\" % len(train_corpus))\n"
   ]
  },
  {
   "cell_type": "code",
   "execution_count": 6,
   "metadata": {},
   "outputs": [],
   "source": [
    "# doc2vec parameters\n",
    "vector_size = 50\n",
    "window_size = 15\n",
    "min_count = 1\n",
    "sampling_threshold = 1e-5\n",
    "negative_size = 5\n",
    "epochs = 400\n",
    "dm = 0  # 0 = dbow; 1 = dmpv\n",
    "worker_count = multiprocessing.cpu_count()  # number of parallel processes"
   ]
  },
  {
   "cell_type": "code",
   "execution_count": 7,
   "metadata": {},
   "outputs": [
    {
     "name": "stdout",
     "output_type": "stream",
     "text": [
      "CPU times: user 4 µs, sys: 0 ns, total: 4 µs\nWall time: 7.87 µs\n"
     ]
    }
   ],
   "source": [
    "%time \n",
    "model = Doc2Vec(train_corpus,\n",
    "                vector_size=vector_size,\n",
    "                window=window_size,\n",
    "                min_count=min_count,\n",
    "                sample=sampling_threshold,\n",
    "                negative=negative_size,\n",
    "                dbow_words=1,\n",
    "                epochs=epochs, \n",
    "                dm=dm,\n",
    "                workers=worker_count)"
   ]
  },
  {
   "cell_type": "code",
   "execution_count": 8,
   "metadata": {
    "collapsed": false
   },
   "outputs": [],
   "source": [
    "model.save(str(models_dir / \"github-java-vectors.bin\"))"
   ]
  },
  {
   "cell_type": "code",
   "execution_count": 9,
   "metadata": {
    "collapsed": false
   },
   "outputs": [
    {
     "data": {
      "text/plain": [
       "[('++', 0.9650440216064453),\n (']', 0.9251419305801392),\n ('0', 0.9192928671836853),\n ('[', 0.9188427925109863),\n ('int', 0.8976515531539917),\n ('length', 0.8961997032165527),\n ('1', 0.8421670794487),\n ('size', 0.8378034234046936),\n ('for', 0.7989552617073059),\n ('j', 0.7830016016960144)]"
      ]
     },
     "execution_count": 9,
     "metadata": {},
     "output_type": "execute_result"
    }
   ],
   "source": [
    "model.wv.most_similar('i')"
   ]
  },
  {
   "cell_type": "code",
   "execution_count": 10,
   "metadata": {},
   "outputs": [
    {
     "data": {
      "text/plain": [
       "[('++', 0.77963787317276),\n ('%', 0.7347809672355652),\n ('size', 0.7335939407348633),\n ('total', 0.7297653555870056),\n ('size:\"', 0.7182334065437317),\n ('<=', 0.7167933583259583),\n ('i', 0.7119099497795105),\n ('limit', 0.7075383067131042),\n ('>=', 0.6996421217918396),\n ('0:', 0.69398033618927)]"
      ]
     },
     "execution_count": 10,
     "metadata": {},
     "output_type": "execute_result"
    }
   ],
   "source": [
    "model.wv.most_similar('count')"
   ]
  },
  {
   "cell_type": "code",
   "execution_count": 11,
   "metadata": {},
   "outputs": [
    {
     "data": {
      "text/plain": [
       "[('\"Cannot', 0.7176927328109741),\n ('UnsupportedOperationException', 0.7117345929145813),\n ('throw', 0.7110745310783386),\n ('IllegalStateException', 0.7000792622566223),\n ('\"Not', 0.6967915892601013),\n ('\"No', 0.6966733336448669),\n ('object\"', 0.6949528455734253),\n ('makeAssessible', 0.6916822195053101),\n ('null.\"', 0.6832382678985596),\n ('type.\"', 0.6811749339103699)]"
      ]
     },
     "execution_count": 11,
     "metadata": {},
     "output_type": "execute_result"
    }
   ],
   "source": [
    "model.wv.most_similar('NullPointerException')"
   ]
  },
  {
   "cell_type": "code",
   "execution_count": 12,
   "metadata": {},
   "outputs": [
    {
     "name": "stdout",
     "output_type": "stream",
     "text": [
      "Warning: Could not process token at \"#\", line 6: body{background-color:#FFF;color:#000;font-family:OpenSans,sans-serif;font-size:10px;}\nWarning: Could not process token at \"#\", line 6: body{background-color:#FFF;color:#000;font-family:OpenSans,sans-serif;font-size:10px;}\nTest corpus size: 462\n"
     ]
    }
   ],
   "source": [
    "def read_test_corpus():\n",
    "    for programming_language in test_code_dir.glob('./Java'):\n",
    "        if not programming_language.is_dir():\n",
    "            continue\n",
    "        for programming_task in programming_language.glob('./*'):\n",
    "            if not programming_task.is_dir():\n",
    "                continue\n",
    "            for implementation in programming_task.glob('./*'):\n",
    "                with implementation.open() as f:\n",
    "                    try:\n",
    "                        code = f.read()\n",
    "                        tokens = list(tokenizer.tokenize(code))\n",
    "                        tokens = [token for t in tokens for token in t.value.split(\" \")]\n",
    "                        if tokens:\n",
    "                            yield TaggedDocument(tokens, [implementation.name, programming_language.name])\n",
    "                    except Exception as e:\n",
    "                        print(\"Warning: %s\" % e)\n",
    "                        pass\n",
    "                \n",
    "                \n",
    "test_corpus = list(read_test_corpus())\n",
    "print(\"Test corpus size: %s\" % len(test_corpus))"
   ]
  },
  {
   "cell_type": "code",
   "execution_count": 13,
   "metadata": {},
   "outputs": [
    {
     "name": "stdout",
     "output_type": "stream",
     "text": [
      "0.4591807723045349\n"
     ]
    }
   ],
   "source": [
    "import scipy\n",
    "\n",
    "sieve6 = [doc for doc in test_corpus if doc.tags[0] == 'sieve-of-eratosthenes-6.java'][0]\n",
    "sieve5 = [doc for doc in test_corpus if doc.tags[0] == 'sieve-of-eratosthenes-5.java'][0]\n",
    "\n",
    "sieve5_vector = model.infer_vector(sieve5.words)\n",
    "sieve6_vector = model.infer_vector(sieve6.words)\n",
    "\n",
    "dist = scipy.spatial.distance.cosine(sieve5_vector, sieve6_vector)\n",
    "print(dist)\n"
   ]
  },
  {
   "cell_type": "code",
   "execution_count": 14,
   "metadata": {},
   "outputs": [],
   "source": [
    "docs = [{'name': doc.tags[0], 'vec': model.infer_vector(doc.words)} for doc in test_corpus]"
   ]
  },
  {
   "cell_type": "code",
   "execution_count": 15,
   "metadata": {},
   "outputs": [
    {
     "data": {
      "image/png": "[encoded data removed]",
      "text/plain": [
       "<Figure size 432x288 with 1 Axes>"
      ]
     },
     "metadata": {},
     "output_type": "display_data"
    }
   ],
   "source": [
    "%matplotlib inline\n",
    "\n",
    "import matplotlib.pyplot as plt\n",
    "from sklearn.decomposition import PCA\n",
    "from sklearn.manifold import TSNE\n",
    "\n",
    "pca = PCA(n_components=50)\n",
    "fiftyDimVecs = pca.fit_transform([doc['vec'] for doc in docs])\n",
    "tsne = TSNE(n_components=2)\n",
    "twoDimVecs = tsne.fit_transform(fiftyDimVecs)\n",
    "\n",
    "fig, ax = plt.subplots()\n",
    "for doc, twoDimVec in zip(docs, twoDimVecs):\n",
    "    ax.scatter(twoDimVec[0], twoDimVec[1], color=('r' if doc['name'].startswith('sieve') else 'b'))\n",
    "plt.show()"
   ]
  }
 ],
 "metadata": {
  "kernelspec": {
   "display_name": "Python 2",
   "language": "python",
   "name": "python2"
  },
  "language_info": {
   "codemirror_mode": {
    "name": "ipython",
    "version": 2
   },
   "file_extension": ".py",
   "mimetype": "text/x-python",
   "name": "python",
   "nbconvert_exporter": "python",
   "pygments_lexer": "ipython2",
   "version": "2.7.6"
  }
 },
 "nbformat": 4,
 "nbformat_minor": 0
}
