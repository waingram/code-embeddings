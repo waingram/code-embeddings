{
 "cells": [
  {
   "cell_type": "markdown",
   "metadata": {
    "collapsed": true
   },
   "source": [
    "# Experiments in splitting Python code"
   ]
  },
  {
   "cell_type": "code",
   "execution_count": 68,
   "metadata": {},
   "outputs": [],
   "source": [
    "import ast\n",
    "import astor\n"
   ]
  },
  {
   "cell_type": "code",
   "execution_count": 64,
   "metadata": {},
   "outputs": [],
   "source": [
    "file = open(\"experiments/fixtures/forest-fire.py\", \"r\")\n",
    "code = file.read()\n",
    "file.close()\n"
   ]
  },
  {
   "cell_type": "code",
   "execution_count": 72,
   "metadata": {},
   "outputs": [
    {
     "name": "stdout",
     "output_type": "stream",
     "text": [
      "def initialise():\n    grid = {(x, y): (tree if random.random() <= initial_trees else space) for\n        x in range(L) for y in range(L)}\n    return grid\n\ndef gprint(grid):\n    txt = '\\n'.join(''.join(grid[x, y] for x in range(L)) for y in range(L))\n    print(txt)\n\ndef quickprint(grid):\n    t = b = 0\n    ll = L * L\n    for x in range(L):\n        for y in range(L):\n            if grid[x, y] in (tree, burning):\n                t += 1\n                if grid[x, y] == burning:\n                    b += 1\n    print((\n        'Of %6i cells, %6i are trees of which %6i are currently burning.' +\n        ' (%6.3f%%, %6.3f%%)') % (ll, t, b, 100.0 * t / ll, 100.0 * b / ll))\n\ndef gnew(grid):\n    newgrid = {}\n    for x in range(L):\n        for y in range(L):\n            if grid[x, y] == burning:\n                newgrid[x, y] = space\n            elif grid[x, y] == space:\n                newgrid[x, y] = tree if random.random() <= p else space\n            elif grid[x, y] == tree:\n                newgrid[x, y] = burning if any(grid.get((x + dx, y + dy),\n                    space) == burning for dx, dy in hood) or random.random(\n                    ) <= f else tree\n    return newgrid\n\n"
     ]
    }
   ],
   "source": [
    "tree = ast.parse(code)\n",
    "funcs = []\n",
    "for node in ast.walk(tree):\n",
    "    if isinstance(node, ast.FunctionDef):\n",
    "        funcs.append(astor.to_source(node))\n",
    "\n",
    "for func in funcs: \n",
    "    print(func)"
   ]
  },
  {
   "cell_type": "code",
   "execution_count": null,
   "metadata": {},
   "outputs": [],
   "source": []
  }
 ],
 "metadata": {
  "kernelspec": {
   "display_name": "Python 2",
   "language": "python",
   "name": "python2"
  },
  "language_info": {
   "codemirror_mode": {
    "name": "ipython",
    "version": 2
   },
   "file_extension": ".py",
   "mimetype": "text/x-python",
   "name": "python",
   "nbconvert_exporter": "python",
   "pygments_lexer": "ipython2",
   "version": "2.7.6"
  }
 },
 "nbformat": 4,
 "nbformat_minor": 0
}
