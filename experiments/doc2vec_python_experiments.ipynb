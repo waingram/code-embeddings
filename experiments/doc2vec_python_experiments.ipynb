{
 "cells": [
  {
   "cell_type": "markdown",
   "metadata": {
    "collapsed": true
   },
   "source": [
    "# Experiments with Python code in Doc2Vec"
   ]
  },
  {
   "cell_type": "code",
   "execution_count": 1,
   "metadata": {},
   "outputs": [],
   "source": [
    "import multiprocessing\n",
    "from pathlib import Path\n",
    "import ast\n",
    "import astor\n",
    "import tokenize\n",
    "import io\n",
    "\n",
    "import gensim.models.doc2vec\n",
    "from gensim.models.doc2vec import Doc2Vec\n",
    "from gensim.models.doc2vec import TaggedDocument\n",
    "\n",
    "assert gensim.models.doc2vec.FAST_VERSION > -1, \"This will be painfully slow otherwise\"\n"
   ]
  },
  {
   "cell_type": "code",
   "execution_count": 2,
   "metadata": {},
   "outputs": [],
   "source": [
    "test_code_dir = Path('test_data')\n",
    "train_code_dir = Path('training_data')\n",
    "models_dir = Path('models')"
   ]
  },
  {
   "cell_type": "code",
   "execution_count": 3,
   "metadata": {},
   "outputs": [],
   "source": [
    "def split_methods(code):\n",
    "    \"\"\"Parse Python files into separate methods\n",
    "\n",
    "        :param code: Python code to parse.\n",
    "        :rtype: map\n",
    "    \"\"\"\n",
    "    funcs = []\n",
    "    try:\n",
    "        tree = ast.parse(code)\n",
    "        for node in ast.walk(tree):\n",
    "            if isinstance(node, ast.FunctionDef):\n",
    "                func = astor.to_source(node)\n",
    "                funcs.append(func)\n",
    "    except:\n",
    "        pass\n",
    "\n",
    "    if not funcs:\n",
    "        funcs = code  # just send everything back\n",
    "    return funcs"
   ]
  },
  {
   "cell_type": "code",
   "execution_count": 4,
   "metadata": {},
   "outputs": [
    {
     "name": "stdout",
     "output_type": "stream",
     "text": [
      "Processed 0 records\n"
     ]
    },
    {
     "name": "stdout",
     "output_type": "stream",
     "text": [
      "CPU times: user 694 ms, sys: 87.9 ms, total: 782 ms\nWall time: 893 ms\nTraining corpus size: 15686\n"
     ]
    }
   ],
   "source": [
    "def read_train_corpus():\n",
    "    count = 0\n",
    "    for i, file in enumerate(test_code_dir.glob('./Python/**/*.py')):\n",
    "        if not file.is_file():  # oddly, some of these are not files\n",
    "            continue\n",
    "        with file.open() as f:\n",
    "            try:\n",
    "                code = f.read()\n",
    "                methods = split_methods(code)\n",
    "                for method in methods:\n",
    "                    tokens = list(tokenize.generate_tokens(io.StringIO(method).readline))\n",
    "                    tokens = [token for t in tokens if t.type == tokenize.NAME or t.type == tokenize.OP for token in t.string.split(\" \")]\n",
    "                    if tokens:\n",
    "                        tag = \"Method_%s\" % count\n",
    "                        count += 1\n",
    "                        yield TaggedDocument(tokens, [tag])\n",
    "                        \n",
    "            except tokenize.TokenError as te:\n",
    "                # print(\"%s: %s\" % (type(te).__name__, te.args))\n",
    "                pass\n",
    "            except Exception as e:\n",
    "                print(\"%s: %s\" % (type(e).__name__, e))\n",
    "                pass\n",
    "     \n",
    "        if i % 10000 == 0:\n",
    "            print(\"Processed %s records\" % i)\n",
    "        if i > 100000:\n",
    "            break\n",
    "\n",
    "\n",
    "%time train_corpus = list(read_train_corpus())\n",
    "print(\"Training corpus size: %s\" % len(train_corpus))\n"
   ]
  },
  {
   "cell_type": "code",
   "execution_count": 5,
   "metadata": {},
   "outputs": [],
   "source": [
    "# doc2vec parameters\n",
    "vector_size = 50\n",
    "window_size = 15\n",
    "min_count = 1\n",
    "sampling_threshold = 1e-5\n",
    "negative_size = 5\n",
    "epochs = 400\n",
    "dm = 0  # 0 = dbow; 1 = dmpv\n",
    "worker_count = multiprocessing.cpu_count()  # number of parallel processes"
   ]
  },
  {
   "cell_type": "code",
   "execution_count": 6,
   "metadata": {},
   "outputs": [
    {
     "name": "stdout",
     "output_type": "stream",
     "text": [
      "CPU times: user 3 µs, sys: 1 µs, total: 4 µs\nWall time: 8.11 µs\n"
     ]
    }
   ],
   "source": [
    "%time \n",
    "model = Doc2Vec(train_corpus,\n",
    "                vector_size=vector_size,\n",
    "                window=window_size,\n",
    "                min_count=min_count,\n",
    "                sample=sampling_threshold,\n",
    "                negative=negative_size,\n",
    "                dbow_words=1,\n",
    "                epochs=epochs, \n",
    "                dm=dm,\n",
    "                workers=worker_count)"
   ]
  },
  {
   "cell_type": "code",
   "execution_count": 7,
   "metadata": {},
   "outputs": [
    {
     "data": {
      "text/plain": [
       "[('range', 0.7761950492858887),\n ('for', 0.6229537129402161),\n ('<', 0.6096979379653931),\n ('>', 0.6088221669197083),\n ('d', 0.6029855012893677),\n ('j', 0.5920586585998535),\n ('yield', 0.589791476726532),\n ('in', 0.5847957730293274),\n ('[', 0.5784527063369751),\n ('x', 0.5718831419944763)]"
      ]
     },
     "execution_count": 7,
     "metadata": {},
     "output_type": "execute_result"
    }
   ],
   "source": [
    "model.wv.most_similar('i')"
   ]
  },
  {
   "cell_type": "code",
   "execution_count": 8,
   "metadata": {},
   "outputs": [
    {
     "data": {
      "text/plain": [
       "[('prev', 0.8083016872406006),\n ('input_string', 0.799058198928833),\n ('character', 0.7912078499794006),\n ('powers', 0.7791116237640381),\n ('allowed', 0.7215562462806702),\n ('encode', 0.7109066843986511),\n ('ok', 0.7043362855911255),\n ('parse', 0.700339138507843),\n ('ast', 0.699785053730011),\n ('g', 0.6985757946968079)]"
      ]
     },
     "execution_count": 8,
     "metadata": {},
     "output_type": "execute_result"
    }
   ],
   "source": [
    "model.wv.most_similar('count')"
   ]
  },
  {
   "cell_type": "code",
   "execution_count": 9,
   "metadata": {},
   "outputs": [
    {
     "name": "stdout",
     "output_type": "stream",
     "text": [
      "Test corpus size: 659\n"
     ]
    }
   ],
   "source": [
    "def read_test_corpus():\n",
    "    for programming_language in test_code_dir.glob('./Python'):\n",
    "        if not programming_language.is_dir():\n",
    "            continue\n",
    "        for programming_task in programming_language.glob('./*'):\n",
    "            if not programming_task.is_dir():\n",
    "                continue\n",
    "            for implementation in programming_task.glob('./*'):\n",
    "                with implementation.open() as f:\n",
    "                    try:\n",
    "                        code = f.read()\n",
    "                        tokens = list(tokenize.generate_tokens(io.StringIO(code).readline))\n",
    "                        tokens = [token for t in tokens if t.type == tokenize.NAME or t.type == tokenize.OP for token in t.string.split(\" \")]\n",
    "                        if tokens:\n",
    "                            yield TaggedDocument(tokens, [implementation.name, programming_language.name])\n",
    "                    except Exception as e:\n",
    "                        # print(\"%s: %s\" % (type(e).__name__, e))\n",
    "                        pass\n",
    "                \n",
    "                \n",
    "test_corpus = list(read_test_corpus())\n",
    "print(\"Test corpus size: %s\" % len(test_corpus))"
   ]
  },
  {
   "cell_type": "code",
   "execution_count": 10,
   "metadata": {},
   "outputs": [],
   "source": [
    "docs = [{'name': doc.tags[0], 'vec': model.infer_vector(doc.words)} for doc in test_corpus]"
   ]
  },
  {
   "cell_type": "code",
   "execution_count": 11,
   "metadata": {},
   "outputs": [
    {
     "data": {
      "image/png": "[encoded data removed]",
      "text/plain": [
       "<Figure size 432x288 with 1 Axes>"
      ]
     },
     "metadata": {},
     "output_type": "display_data"
    }
   ],
   "source": [
    "%matplotlib inline\n",
    "\n",
    "import matplotlib.pyplot as plt\n",
    "from sklearn.decomposition import PCA\n",
    "from sklearn.manifold import TSNE\n",
    "\n",
    "pca = PCA(n_components=50)\n",
    "fiftyDimVecs = pca.fit_transform([doc['vec'] for doc in docs])\n",
    "tsne = TSNE(n_components=2)\n",
    "twoDimVecs = tsne.fit_transform(fiftyDimVecs)\n",
    "\n",
    "fig, ax = plt.subplots()\n",
    "for doc, twoDimVec in zip(docs, twoDimVecs):\n",
    "    ax.scatter(twoDimVec[0], twoDimVec[1], color=('r' if doc['name'].startswith('sieve') else 'b'))\n",
    "plt.show()"
   ]
  }
 ],
 "metadata": {
  "kernelspec": {
   "display_name": "Python 2",
   "language": "python",
   "name": "python2"
  },
  "language_info": {
   "codemirror_mode": {
    "name": "ipython",
    "version": 2
   },
   "file_extension": ".py",
   "mimetype": "text/x-python",
   "name": "python",
   "nbconvert_exporter": "python",
   "pygments_lexer": "ipython2",
   "version": "2.7.6"
  }
 },
 "nbformat": 4,
 "nbformat_minor": 0
}
