{
 "cells": [
  {
   "cell_type": "markdown",
   "metadata": {},
   "source": [
    "# Experiments with Doc2Vec"
   ]
  },
  {
   "cell_type": "markdown",
   "metadata": {},
   "source": [
    "Try to represent code in Doc2Vec. "
   ]
  },
  {
   "cell_type": "markdown",
   "metadata": {},
   "source": [
    "## Setup"
   ]
  },
  {
   "cell_type": "code",
   "execution_count": 17,
   "metadata": {},
   "outputs": [
    {
     "data": {
      "text/plain": [
       "'E:\\\\PHD\\\\Thesis VT\\\\SourceCodeEmbedding'"
      ]
     },
     "execution_count": 17,
     "metadata": {},
     "output_type": "execute_result"
    }
   ],
   "source": [
    "import os \n",
    "\n",
    "os.chdir('E:\\\\PHD\\\\Thesis VT\\\\SourceCodeEmbedding')\n",
    "os.getcwd()"
   ]
  },
  {
   "cell_type": "code",
   "execution_count": 18,
   "metadata": {},
   "outputs": [],
   "source": [
    "import logging\n",
    "import multiprocessing\n",
    "from pathlib import Path\n",
    "\n",
    "import gensim.models.doc2vec\n",
    "import regex\n",
    "from gensim.models.doc2vec import Doc2Vec\n",
    "from gensim.models.doc2vec import TaggedDocument\n",
    "from javalanglib.javalang import tokenizer\n",
    "\n",
    "from utils import tokenize\n",
    "\n",
    "assert gensim.models.doc2vec.FAST_VERSION > -1, \"This will be painfully slow otherwise\"\n",
    "\n",
    "log = logging.getLogger()\n",
    "logging.basicConfig(level=logging.WARNING)"
   ]
  },
  {
   "cell_type": "markdown",
   "metadata": {},
   "source": [
    "## Build and Train the Model"
   ]
  },
  {
   "cell_type": "code",
   "execution_count": 53,
   "metadata": {},
   "outputs": [
    {
     "data": {
      "text/plain": [
       "[]"
      ]
     },
     "execution_count": 53,
     "metadata": {},
     "output_type": "execute_result"
    }
   ],
   "source": [
    "test_code_dir = Path('test_data')\n",
    "train_code_dir = Path('training_data')\n",
    "models_dir = Path('models')\n",
    "list(test_code_dir.glob('./Java/**/*.java'))"
   ]
  },
  {
   "cell_type": "code",
   "execution_count": 20,
   "metadata": {},
   "outputs": [],
   "source": [
    "def split_methods(code):\n",
    "    \"\"\"Parse Java files into separate methods\n",
    "\n",
    "        :param code: Java code to parse.\n",
    "        :rtype: map\n",
    "    \"\"\"\n",
    "    pattern = r'(?:(?:public|private|static|protected)\\s+)*\\s*[\\w\\<\\>\\[\\]]+\\s+\\w+\\s*\\([^{]+({(?:[^{}]+\\/\\*.*?\\*\\/|[^{}]+\\/\\/.*?$|[^{}]+|(?1))*+})'\n",
    "    scanner = regex.finditer(pattern, code, regex.MULTILINE)\n",
    "    return map(lambda match: match.group(0), scanner)"
   ]
  },
  {
   "cell_type": "code",
   "execution_count": 54,
   "metadata": {},
   "outputs": [
    {
     "name": "stdout",
     "output_type": "stream",
     "text": [
      "Wall time: 0 ns\n",
      "Training corpus size: 0\n"
     ]
    },
    {
     "data": {
      "text/plain": [
       "[]"
      ]
     },
     "execution_count": 54,
     "metadata": {},
     "output_type": "execute_result"
    }
   ],
   "source": [
    "def read_train_corpus():\n",
    "    count = 0\n",
    "    for i, file in enumerate(test_code_dir.glob('./java_projects/**/*.java')):\n",
    "        if not file.is_file():  # oddly, some of these are not files\n",
    "            continue\n",
    "        with file.open() as f:\n",
    "            try:\n",
    "                code = f.read()\n",
    "                methods = split_methods(code)\n",
    "                for method in methods:\n",
    "                    tokens = list(tokenizer.tokenize(method))\n",
    "                    tokens = [token for t in tokens for token in t.value.split(\" \")]\n",
    "                    if tokens:\n",
    "                        tag = \"Method_%s\" % count\n",
    "                        count += 1\n",
    "                        yield TaggedDocument(tokens, [tag])\n",
    "            except Exception as e:\n",
    "                log.debug(\"Warning: %s\" % e)\n",
    "                pass\n",
    "        if i % 10000 == 0:\n",
    "            log.info(\"Processed %s records\" % i)\n",
    "        if i > 100000:\n",
    "            break\n",
    "\n",
    "\n",
    "%time train_corpus = list(read_train_corpus())\n",
    "print(\"Training corpus size: %s\" % len(train_corpus))\n",
    "list(enumerate(test_code_dir.glob('**/*.java')))"
   ]
  },
  {
   "cell_type": "code",
   "execution_count": 22,
   "metadata": {},
   "outputs": [],
   "source": [
    "model = Doc2Vec(vector_size=100,\n",
    "                epochs=15,\n",
    "                window=8,\n",
    "                min_count=2,  \n",
    "                workers=multiprocessing.cpu_count())"
   ]
  },
  {
   "cell_type": "code",
   "execution_count": 25,
   "metadata": {},
   "outputs": [],
   "source": [
    "model.build_vocab(train_corpus)"
   ]
  },
  {
   "cell_type": "code",
   "execution_count": 26,
   "metadata": {},
   "outputs": [
    {
     "ename": "RuntimeError",
     "evalue": "you must first build vocabulary before training the model",
     "output_type": "error",
     "traceback": [
      "\u001b[1;31m---------------------------------------------------------------------------\u001b[0m",
      "\u001b[1;31mRuntimeError\u001b[0m                              Traceback (most recent call last)",
      "\u001b[1;32m<timed eval>\u001b[0m in \u001b[0;36m<module>\u001b[1;34m()\u001b[0m\n",
      "\u001b[1;32m~\\Anaconda3\\envs\\thesis_env\\lib\\site-packages\\gensim\\models\\doc2vec.py\u001b[0m in \u001b[0;36mtrain\u001b[1;34m(self, documents, total_examples, total_words, epochs, start_alpha, end_alpha, word_count, queue_factor, report_delay, callbacks)\u001b[0m\n\u001b[0;32m    503\u001b[0m             \u001b[0mdocuments\u001b[0m\u001b[1;33m,\u001b[0m \u001b[0mtotal_examples\u001b[0m\u001b[1;33m=\u001b[0m\u001b[0mtotal_examples\u001b[0m\u001b[1;33m,\u001b[0m \u001b[0mtotal_words\u001b[0m\u001b[1;33m=\u001b[0m\u001b[0mtotal_words\u001b[0m\u001b[1;33m,\u001b[0m\u001b[1;33m\u001b[0m\u001b[0m\n\u001b[0;32m    504\u001b[0m             \u001b[0mepochs\u001b[0m\u001b[1;33m=\u001b[0m\u001b[0mepochs\u001b[0m\u001b[1;33m,\u001b[0m \u001b[0mstart_alpha\u001b[0m\u001b[1;33m=\u001b[0m\u001b[0mstart_alpha\u001b[0m\u001b[1;33m,\u001b[0m \u001b[0mend_alpha\u001b[0m\u001b[1;33m=\u001b[0m\u001b[0mend_alpha\u001b[0m\u001b[1;33m,\u001b[0m \u001b[0mword_count\u001b[0m\u001b[1;33m=\u001b[0m\u001b[0mword_count\u001b[0m\u001b[1;33m,\u001b[0m\u001b[1;33m\u001b[0m\u001b[0m\n\u001b[1;32m--> 505\u001b[1;33m             queue_factor=queue_factor, report_delay=report_delay, callbacks=callbacks)\n\u001b[0m\u001b[0;32m    506\u001b[0m \u001b[1;33m\u001b[0m\u001b[0m\n\u001b[0;32m    507\u001b[0m     \u001b[1;32mdef\u001b[0m \u001b[0m_raw_word_count\u001b[0m\u001b[1;33m(\u001b[0m\u001b[0mself\u001b[0m\u001b[1;33m,\u001b[0m \u001b[0mjob\u001b[0m\u001b[1;33m)\u001b[0m\u001b[1;33m:\u001b[0m\u001b[1;33m\u001b[0m\u001b[0m\n",
      "\u001b[1;32m~\\Anaconda3\\envs\\thesis_env\\lib\\site-packages\\gensim\\models\\base_any2vec.py\u001b[0m in \u001b[0;36mtrain\u001b[1;34m(self, sentences, total_examples, total_words, epochs, start_alpha, end_alpha, word_count, queue_factor, report_delay, compute_loss, callbacks)\u001b[0m\n\u001b[0;32m    567\u001b[0m             \u001b[0msentences\u001b[0m\u001b[1;33m,\u001b[0m \u001b[0mtotal_examples\u001b[0m\u001b[1;33m=\u001b[0m\u001b[0mtotal_examples\u001b[0m\u001b[1;33m,\u001b[0m \u001b[0mtotal_words\u001b[0m\u001b[1;33m=\u001b[0m\u001b[0mtotal_words\u001b[0m\u001b[1;33m,\u001b[0m\u001b[1;33m\u001b[0m\u001b[0m\n\u001b[0;32m    568\u001b[0m             \u001b[0mepochs\u001b[0m\u001b[1;33m=\u001b[0m\u001b[0mepochs\u001b[0m\u001b[1;33m,\u001b[0m \u001b[0mstart_alpha\u001b[0m\u001b[1;33m=\u001b[0m\u001b[0mstart_alpha\u001b[0m\u001b[1;33m,\u001b[0m \u001b[0mend_alpha\u001b[0m\u001b[1;33m=\u001b[0m\u001b[0mend_alpha\u001b[0m\u001b[1;33m,\u001b[0m \u001b[0mword_count\u001b[0m\u001b[1;33m=\u001b[0m\u001b[0mword_count\u001b[0m\u001b[1;33m,\u001b[0m\u001b[1;33m\u001b[0m\u001b[0m\n\u001b[1;32m--> 569\u001b[1;33m             queue_factor=queue_factor, report_delay=report_delay, compute_loss=compute_loss, callbacks=callbacks)\n\u001b[0m\u001b[0;32m    570\u001b[0m \u001b[1;33m\u001b[0m\u001b[0m\n\u001b[0;32m    571\u001b[0m     \u001b[1;32mdef\u001b[0m \u001b[0m_get_job_params\u001b[0m\u001b[1;33m(\u001b[0m\u001b[0mself\u001b[0m\u001b[1;33m,\u001b[0m \u001b[0mcur_epoch\u001b[0m\u001b[1;33m)\u001b[0m\u001b[1;33m:\u001b[0m\u001b[1;33m\u001b[0m\u001b[0m\n",
      "\u001b[1;32m~\\Anaconda3\\envs\\thesis_env\\lib\\site-packages\\gensim\\models\\base_any2vec.py\u001b[0m in \u001b[0;36mtrain\u001b[1;34m(self, data_iterable, epochs, total_examples, total_words, queue_factor, report_delay, callbacks, **kwargs)\u001b[0m\n\u001b[0;32m    239\u001b[0m             \u001b[0mepochs\u001b[0m\u001b[1;33m=\u001b[0m\u001b[0mepochs\u001b[0m\u001b[1;33m,\u001b[0m\u001b[1;33m\u001b[0m\u001b[0m\n\u001b[0;32m    240\u001b[0m             \u001b[0mtotal_examples\u001b[0m\u001b[1;33m=\u001b[0m\u001b[0mtotal_examples\u001b[0m\u001b[1;33m,\u001b[0m\u001b[1;33m\u001b[0m\u001b[0m\n\u001b[1;32m--> 241\u001b[1;33m             total_words=total_words, **kwargs)\n\u001b[0m\u001b[0;32m    242\u001b[0m \u001b[1;33m\u001b[0m\u001b[0m\n\u001b[0;32m    243\u001b[0m         \u001b[1;32mfor\u001b[0m \u001b[0mcallback\u001b[0m \u001b[1;32min\u001b[0m \u001b[0mself\u001b[0m\u001b[1;33m.\u001b[0m\u001b[0mcallbacks\u001b[0m\u001b[1;33m:\u001b[0m\u001b[1;33m\u001b[0m\u001b[0m\n",
      "\u001b[1;32m~\\Anaconda3\\envs\\thesis_env\\lib\\site-packages\\gensim\\models\\base_any2vec.py\u001b[0m in \u001b[0;36m_check_training_sanity\u001b[1;34m(self, epochs, total_examples, total_words, **kwargs)\u001b[0m\n\u001b[0;32m    599\u001b[0m \u001b[1;33m\u001b[0m\u001b[0m\n\u001b[0;32m    600\u001b[0m         \u001b[1;32mif\u001b[0m \u001b[1;32mnot\u001b[0m \u001b[0mself\u001b[0m\u001b[1;33m.\u001b[0m\u001b[0mwv\u001b[0m\u001b[1;33m.\u001b[0m\u001b[0mvocab\u001b[0m\u001b[1;33m:\u001b[0m  \u001b[1;31m# should be set by `build_vocab`\u001b[0m\u001b[1;33m\u001b[0m\u001b[0m\n\u001b[1;32m--> 601\u001b[1;33m             \u001b[1;32mraise\u001b[0m \u001b[0mRuntimeError\u001b[0m\u001b[1;33m(\u001b[0m\u001b[1;34m\"you must first build vocabulary before training the model\"\u001b[0m\u001b[1;33m)\u001b[0m\u001b[1;33m\u001b[0m\u001b[0m\n\u001b[0m\u001b[0;32m    602\u001b[0m         \u001b[1;32mif\u001b[0m \u001b[1;32mnot\u001b[0m \u001b[0mlen\u001b[0m\u001b[1;33m(\u001b[0m\u001b[0mself\u001b[0m\u001b[1;33m.\u001b[0m\u001b[0mwv\u001b[0m\u001b[1;33m.\u001b[0m\u001b[0mvectors\u001b[0m\u001b[1;33m)\u001b[0m\u001b[1;33m:\u001b[0m\u001b[1;33m\u001b[0m\u001b[0m\n\u001b[0;32m    603\u001b[0m             \u001b[1;32mraise\u001b[0m \u001b[0mRuntimeError\u001b[0m\u001b[1;33m(\u001b[0m\u001b[1;34m\"you must initialize vectors before training the model\"\u001b[0m\u001b[1;33m)\u001b[0m\u001b[1;33m\u001b[0m\u001b[0m\n",
      "\u001b[1;31mRuntimeError\u001b[0m: you must first build vocabulary before training the model"
     ]
    }
   ],
   "source": [
    "%time model.train(train_corpus, total_examples=model.corpus_count, epochs=model.epochs)"
   ]
  },
  {
   "cell_type": "code",
   "execution_count": 101,
   "metadata": {},
   "outputs": [
    {
     "name": "stderr",
     "output_type": "stream",
     "text": [
      "INFO:gensim.utils:saving Doc2Vec object under models/github-java-vectors.bin, separately None\n",
      "INFO:gensim.utils:storing np array 'syn1neg' to models/github-java-vectors.bin.trainables.syn1neg.npy\n",
      "INFO:gensim.utils:storing np array 'vectors' to models/github-java-vectors.bin.wv.vectors.npy\n",
      "INFO:gensim.utils:storing np array 'vectors_docs' to models/github-java-vectors.bin.docvecs.vectors_docs.npy\n",
      "INFO:gensim.utils:saved models/github-java-vectors.bin\n"
     ]
    }
   ],
   "source": [
    "model.save(str(models_dir / \"github-java-vectors.bin\"))"
   ]
  },
  {
   "cell_type": "code",
   "execution_count": 102,
   "metadata": {},
   "outputs": [
    {
     "name": "stderr",
     "output_type": "stream",
     "text": [
      "INFO:gensim.models.keyedvectors:precomputing L2-norms of word weight vectors\n"
     ]
    },
    {
     "data": {
      "text/plain": [
       "[('j', 0.664875864982605),\n",
       " ('++', 0.6402190327644348),\n",
       " ('0', 0.49785906076431274),\n",
       " ('ringInd', 0.49448162317276),\n",
       " ('Xcells', 0.491579532623291),\n",
       " ('batchNumber', 0.49123460054397583),\n",
       " ('.', 0.48527592420578003),\n",
       " (')', 0.4837230145931244),\n",
       " ('\"ygates.wld\"', 0.48160475492477417),\n",
       " ('indComp', 0.478076308965683)]"
      ]
     },
     "execution_count": 102,
     "metadata": {},
     "output_type": "execute_result"
    }
   ],
   "source": [
    "model.wv.most_similar('i')"
   ]
  },
  {
   "cell_type": "code",
   "execution_count": 103,
   "metadata": {},
   "outputs": [
    {
     "data": {
      "text/plain": [
       "[('counter', 0.7338234782218933),\n",
       " ('cnt', 0.6767633557319641),\n",
       " ('getCount', 0.6467041969299316),\n",
       " ('lastId', 0.6226073503494263),\n",
       " ('messageCount', 0.6112265586853027),\n",
       " ('total', 0.6051040291786194),\n",
       " ('COUNT', 0.5921086668968201),\n",
       " ('msgsClient2', 0.5882337093353271),\n",
       " ('m_count', 0.5852780938148499),\n",
       " ('pageCount', 0.5804666876792908)]"
      ]
     },
     "execution_count": 103,
     "metadata": {},
     "output_type": "execute_result"
    }
   ],
   "source": [
    "model.wv.most_similar('count')"
   ]
  },
  {
   "cell_type": "code",
   "execution_count": 104,
   "metadata": {},
   "outputs": [
    {
     "data": {
      "text/plain": [
       "[('IllegalArgumentException', 0.7493872046470642),\n",
       " ('IllegalStateException', 0.6861292123794556),\n",
       " ('RemoteVisADException', 0.6782998442649841),\n",
       " ('ConcurrentModificationException', 0.6748716831207275),\n",
       " ('ArithmeticException', 0.6609634160995483),\n",
       " ('NullArgumentException', 0.6533136963844299),\n",
       " ('ExceptionPlayerNotFound', 0.642362117767334),\n",
       " ('AndroidRuntimeException', 0.6324430704116821),\n",
       " ('RunnerAbortedException', 0.6259623169898987),\n",
       " ('NotImplementedException', 0.6248501539230347)]"
      ]
     },
     "execution_count": 104,
     "metadata": {},
     "output_type": "execute_result"
    }
   ],
   "source": [
    "model.wv.most_similar('NullPointerException')"
   ]
  },
  {
   "cell_type": "code",
   "execution_count": 105,
   "metadata": {},
   "outputs": [
    {
     "name": "stdout",
     "output_type": "stream",
     "text": [
      "Test corpus size: 462\n"
     ]
    }
   ],
   "source": [
    "def read_test_corpus():\n",
    "    for programming_language in test_code_dir.glob('./Java'):\n",
    "        if not programming_language.is_dir():\n",
    "            continue\n",
    "        for programming_task in programming_language.glob('./*'):\n",
    "            if not programming_task.is_dir():\n",
    "                continue\n",
    "            for implementation in programming_task.glob('./*'):\n",
    "                with implementation.open() as f:\n",
    "                    try:\n",
    "                        code = f.read()\n",
    "                        tokens = list(tokenizer.tokenize(code))\n",
    "                        tokens = [token for t in tokens for token in t.value.split(\" \")]\n",
    "                        if tokens:\n",
    "                            yield TaggedDocument(tokens, [implementation.name, programming_language.name])\n",
    "                    except Exception as e:\n",
    "                        log.debug(\"Warning: %s\" % e)\n",
    "                        pass\n",
    "                \n",
    "                \n",
    "test_corpus = list(read_test_corpus())\n",
    "print(\"Test corpus size: %s\" % len(test_corpus))"
   ]
  },
  {
   "cell_type": "code",
   "execution_count": 107,
   "metadata": {},
   "outputs": [
    {
     "name": "stdout",
     "output_type": "stream",
     "text": [
      "0.34306800365448\n"
     ]
    }
   ],
   "source": [
    "import scipy\n",
    "\n",
    "sieve6 = [doc for doc in test_corpus if doc.tags[0] == 'sieve-of-eratosthenes-6.java'][0]\n",
    "sieve5 = [doc for doc in test_corpus if doc.tags[0] == 'sieve-of-eratosthenes-5.java'][0]\n",
    "\n",
    "sieve5_vector = model.infer_vector(sieve5.words)\n",
    "sieve6_vector = model.infer_vector(sieve6.words)\n",
    "\n",
    "dist = scipy.spatial.distance.cosine(sieve5_vector, sieve6_vector)\n",
    "print(dist)\n"
   ]
  },
  {
   "cell_type": "code",
   "execution_count": 110,
   "metadata": {},
   "outputs": [],
   "source": [
    "docs = [{'name': doc.tags[0], 'vec': model.infer_vector(doc.words)} for doc in test_corpus]"
   ]
  },
  {
   "cell_type": "code",
   "execution_count": 116,
   "metadata": {},
   "outputs": [
    {
     "data": {
      "image/png": "[encoded data removed]",
      "text/plain": [
       "<Figure size 432x288 with 1 Axes>"
      ]
     },
     "metadata": {},
     "output_type": "display_data"
    }
   ],
   "source": [
    "%matplotlib inline\n",
    "\n",
    "import matplotlib.pyplot as plt\n",
    "from sklearn.decomposition import PCA\n",
    "from sklearn.manifold import TSNE\n",
    "\n",
    "pca = PCA(n_components=50)\n",
    "fiftyDimVecs = pca.fit_transform([doc['vec'] for doc in docs])\n",
    "tsne = TSNE(n_components=2)\n",
    "twoDimVecs = tsne.fit_transform(fiftyDimVecs)\n",
    "\n",
    "fig, ax = plt.subplots()\n",
    "for doc, twoDimVec in zip(docs, twoDimVecs):\n",
    "    ax.scatter(twoDimVec[0], twoDimVec[1], color=('r' if doc['name'].startswith('sieve') else 'b'))\n",
    "plt.show()"
   ]
  }
 ],
 "metadata": {
  "kernelspec": {
   "display_name": "Python 3",
   "language": "python",
   "name": "python3"
  },
  "language_info": {
   "codemirror_mode": {
    "name": "ipython",
    "version": 3
   },
   "file_extension": ".py",
   "mimetype": "text/x-python",
   "name": "python",
   "nbconvert_exporter": "python",
   "pygments_lexer": "ipython3",
   "version": "3.6.4"
  }
 },
 "nbformat": 4,
 "nbformat_minor": 1
}
