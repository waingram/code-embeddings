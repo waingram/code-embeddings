{
 "cells": [
  {
   "cell_type": "markdown",
   "metadata": {
    "collapsed": true
   },
   "source": [
    "# Experiments in spliting Java code"
   ]
  },
  {
   "cell_type": "code",
   "execution_count": 23,
   "metadata": {},
   "outputs": [],
   "source": [
    "import regex"
   ]
  },
  {
   "cell_type": "code",
   "execution_count": 24,
   "metadata": {
    "collapsed": false
   },
   "outputs": [],
   "source": [
    "def split_methods(code):\n",
    "    \"\"\"Parse Java files into separate methods\n",
    "\n",
    "        :param code: Java code to parse.\n",
    "        :rtype: map\n",
    "    \"\"\"\n",
    "    pattern = r'(?:(?:public|private|static|protected)\\s+)*\\s*[\\w\\<\\>\\[\\]]+\\s+\\w+\\s*\\([^{]+({(?:[^{}]+\\/\\*.*?\\*\\/|[^{}]+\\/\\/.*?$|[^{}]+|(?1))*+})'\n",
    "    scanner = regex.finditer(pattern, code, regex.MULTILINE)\n",
    "    return map(lambda match: match.group(0), scanner)"
   ]
  },
  {
   "cell_type": "code",
   "execution_count": 25,
   "metadata": {},
   "outputs": [],
   "source": [
    "file = open(\"experiments/fixtures/forest-fire.java\", \"r\")\n",
    "code = file.read()\n",
    "file.close()"
   ]
  },
  {
   "cell_type": "code",
   "execution_count": 26,
   "metadata": {},
   "outputs": [
    {
     "name": "stdout",
     "output_type": "stream",
     "text": [
      "\n\nFunction 0\n--\nprivate static List<String> process(List<String> land){\n\t\tList<String> newLand = new LinkedList<String>();\n\t\tfor(int i = 0; i < land.size(); i++){\n\t\t\tString rowAbove, thisRow = land.get(i), rowBelow;\n\t\t\tif(i == 0){//first row\n\t\t\t\trowAbove = null;\n\t\t\t\trowBelow = land.get(i + 1);\n\t\t\t}else if(i == land.size() - 1){//last row\n\t\t\t\trowBelow = null;\n\t\t\t\trowAbove = land.get(i - 1);\n\t\t\t}else{//middle\n\t\t\t\trowBelow = land.get(i + 1);\n\t\t\t\trowAbove = land.get(i - 1);\n\t\t\t}\n\t\t\tnewLand.add(processRows(rowAbove, thisRow, rowBelow));\n\t\t}\n\t\treturn newLand;\n\t}\n\n\nFunction 1\n--\nprivate static String processRows(String rowAbove, String thisRow,\n\t\t\tString rowBelow){\n\t\tString newRow = \"\";\n\t\tfor(int i = 0; i < thisRow.length();i++){\n\t\t\tswitch(thisRow.charAt(i)){\n\t\t\tcase BURNING:\n\t\t\t\tnewRow+= EMPTY;\n\t\t\t\tbreak;\n\t\t\tcase EMPTY:\n\t\t\t\tnewRow+= Math.random() < P ? TREE : EMPTY;\n\t\t\t\tbreak;\n\t\t\tcase TREE:\n\t\t\t\tString neighbors = \"\";\n\t\t\t\tif(i == 0){//first char\n\t\t\t\t\tneighbors+= rowAbove == null ? \"\" : rowAbove.substring(i, i + 2);\n\t\t\t\t\tneighbors+= thisRow.charAt(i + 1);\n\t\t\t\t\tneighbors+= rowBelow == null ? \"\" : rowBelow.substring(i, i + 2);\n\t\t\t\t\tif(neighbors.contains(Character.toString(BURNING))){\n\t\t\t\t\t\tnewRow+= BURNING;\n\t\t\t\t\t\tbreak;\n\t\t\t\t\t}\n\t\t\t\t}else if(i == thisRow.length() - 1){//last char\n\t\t\t\t\tneighbors+= rowAbove == null ? \"\" : rowAbove.substring(i - 1, i + 1);\n\t\t\t\t\tneighbors+= thisRow.charAt(i - 1);\n\t\t\t\t\tneighbors+= rowBelow == null ? \"\" : rowBelow.substring(i - 1, i + 1);\n\t\t\t\t\tif(neighbors.contains(Character.toString(BURNING))){\n\t\t\t\t\t\tnewRow+= BURNING;\n\t\t\t\t\t\tbreak;\n\t\t\t\t\t}\n\t\t\t\t}else{//middle\n\t\t\t\t\tneighbors+= rowAbove == null ? \"\" : rowAbove.substring(i - 1, i + 2);\n\t\t\t\t\tneighbors+= thisRow.charAt(i + 1);\n\t\t\t\t\tneighbors+= thisRow.charAt(i - 1);\n\t\t\t\t\tneighbors+= rowBelow == null ? \"\" : rowBelow.substring(i - 1, i + 2);\n\t\t\t\t\tif(neighbors.contains(Character.toString(BURNING))){\n\t\t\t\t\t\tnewRow+= BURNING;\n\t\t\t\t\t\tbreak;\n\t\t\t\t\t}\n\t\t\t\t}\n\t\t\t\tnewRow+= Math.random() < F ? BURNING : TREE;\n\t\t\t}\n\t\t}\n\t\treturn newRow;\n\t}\n\n\nFunction 2\n--\npublic static List<String> populate(int width, int height){\n\t\tList<String> land = new LinkedList<String>();\n\t\tfor(;height > 0; height--){//height is just a copy anyway\n\t\t\tStringBuilder line = new StringBuilder(width);\n\t\t\tfor(int i = width; i > 0; i--){\n\t\t\t\tline.append((Math.random() < TREE_PROB) ? TREE : EMPTY);\n\t\t\t}\n\t\t\tland.add(line.toString());\n\t\t}\n\t\treturn land;\n\t}\n\n\nFunction 3\n--\npublic static void processN(List<String> land, int n){\n\t\tfor(int i = 0;i < n; i++){\n\t\t\tland = process(land);\n\t\t}\n\t}\n\n\nFunction 4\n--\npublic static void processNPrint(List<String> land, int n){\n\t\tfor(int i = 0;i < n; i++){\n\t\t\tland = process(land);\n\t\t\tprint(land);\n\t\t}\n\t}\n\n\nFunction 5\n--\npublic static void print(List<String> land){\n\t\tfor(String row: land){\n\t\t\tSystem.out.println(row);\n\t\t}\n\t\tSystem.out.println();\n\t}\n\n\nFunction 6\n--\npublic static void main(String[] args){\n\t\tList<String> land = Arrays.asList(\".TTT.T.T.TTTT.T\",\n\t\t\t\t\"T.T.T.TT..T.T..\",\n\t\t\t\t\"TT.TTTT...T.TT.\",\n\t\t\t\t\"TTT..TTTTT.T..T\",\n\t\t\t\t\".T.TTT....TT.TT\",\n\t\t\t\t\"...T..TTT.TT.T.\",\n\t\t\t\t\".TT.TT...TT..TT\",\n\t\t\t\t\".TT.T.T..T.T.T.\",\n\t\t\t\t\"..TTT.TT.T..T..\",\n\t\t\t\t\".T....T.....TTT\",\n\t\t\t\t\"T..TTT..T..T...\",\n\t\t\t\t\"TTT....TTTTTT.T\",\n\t\t\t\t\"......TwTTT...T\",\n\t\t\t\t\"..T....TTTTTTTT\",\n\t\t\t\t\".T.T.T....TT...\");\n\t\tprint(land);\n\t\tprocessNPrint(land, 10);\n\t\t\n\t\tSystem.out.println(\"Random land test:\");\n\t\t\n\t\tland = populate(10, 10);\n\t\tprint(land);\n\t\tprocessNPrint(land, 10);\n\t}\n"
     ]
    }
   ],
   "source": [
    "methods = split_methods(code)\n",
    "for i, method in enumerate(methods):\n",
    "    print(\"\\n\\nFunction {}\\n--\".format(i))\n",
    "    print(method)"
   ]
  },
  {
   "cell_type": "code",
   "execution_count": null,
   "metadata": {},
   "outputs": [],
   "source": []
  }
 ],
 "metadata": {
  "kernelspec": {
   "display_name": "Python 2",
   "language": "python",
   "name": "python2"
  },
  "language_info": {
   "codemirror_mode": {
    "name": "ipython",
    "version": 2
   },
   "file_extension": ".py",
   "mimetype": "text/x-python",
   "name": "python",
   "nbconvert_exporter": "python",
   "pygments_lexer": "ipython2",
   "version": "2.7.6"
  }
 },
 "nbformat": 4,
 "nbformat_minor": 0
}
